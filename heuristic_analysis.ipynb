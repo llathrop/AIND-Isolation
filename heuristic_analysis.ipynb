{
 "cells": [
  {
   "cell_type": "markdown",
   "metadata": {},
   "source": [
    "# Heuristic Analysis of AI Isolation\n",
    "\n",
    "## Summary\n",
    " After implementing the MiniMax and AlphaBeta algorithms, we implemented 3 custom scoring heuristics which, when called, provide a score for the current game state. A higher score implies the current state is more likely to lead to a win for the current player. "
   ]
  },
  {
   "cell_type": "markdown",
   "metadata": {},
   "source": [
    "## Detail\n",
    " By way of example we were provided with several example score functions, the best performing of which(**improved_score**), simply returns $moves_{own}\\ -\\ moves_{opp}$. The idea is that the player with more remaining moves has an advantage, and so a higher positive score for player 1 results in an advantage.\n",
    " \n",
    " For our version of the scorer, we enhanced the **improved_score** version:\n",
    " \n",
    " * **custom_score_3:** We have added a metric about the game state, \"empty_board\", which contains the number of spaces left unblocked in the game. We divide the **improved_score** by this number. The idea behind this is that when the game begins, no particular move is very valuable, as we have plenty of room to move still<br>\n",
    "\n",
    "    $\\frac{moves\\_own\\ -\\ moves\\_opp}{empty\\_board}$\n",
    "    \n",
    "    \n",
    " * **custom_score_2:** Similar to the prior scorer, we have added another metric, \"moves_left\", which is the total number of moves left to all players. While simply substituting this in where empty_board was works, it provided no change in game outcome. instead we combined the two metrics, as a deeper indicator of how much game remains. In addition, we found that squaring the number of player moves led to an improved score.<br>\n",
    "\n",
    "     $\\frac{moves\\_own^2\\ -\\ moves\\_opp^2}{moves\\_left\\ +\\ empty\\_board}$\n",
    "     \n",
    "  \n",
    " * **custom_score:** In the final version of the scorer, we used the idea that during the early portion of the game, the distance from the center will pay an important role. To this end during the first half of the game, we modify the prior formula from custom score_2 by adding their \"center score\" to the number of moves of each player. \"center_score\" is generated using the code from the example scorers, and is the square of the distance from the center of the board to the position of the player. During the final half of the game, we procede as in custom_score_2.<br>\n",
    "\n",
    "     $\\frac{(moves\\_own\\ +\\ center\\_score)^2\\ -\\ (moves\\_opp)^2}{moves\\_left\\ +\\ empty\\_board}$\n",
    "     \n",
    " \n",
    " Additionally, I implemented a scoring model that outputs a probability that a specific game state leads to a win for a specific player, and then multiplied the improved score by this probability, etc. The model used ExtraTreesClassifier from scikit-learn, and generated game state and win/loss by saving the output of approximatly 50,000 games. Details are available in score_model.py in the git repository. This model proved to be to slow computationally and lost due to reaching the timeout condition in all games, and so is unviable for the current testing scenario. \n"
   ]
  },
  {
   "cell_type": "markdown",
   "metadata": {},
   "source": [
    "## Conclusion\n",
    "It's difficult to beat the given included scorer, **improved_score**. While most of the time the custom scorers described above are able to perform as well as the given, in some runs they perform worse.  In tournaments with high(100+) NUM_MATCHES, it was seen that a consistent improvement was possible of at least 1%. In some runs, we observed a 10% improvement. When we compare best runs between the given and our custom scorer, over all tests, we saw a 6% improvement in best score. overall, **custom score_2** seems to perform most consistently better than **improved_score**, and **custom_score** achieves the highest overall scores. As written, I would use **custom score_2** for further game play."
   ]
  },
  {
   "cell_type": "markdown",
   "metadata": {},
   "source": [
    " ```\n",
    " Match #   Opponent    AB_Improved   AB_Custom   AB_Custom_2  AB_Custom_3 \n",
    "                        Won | Lost   Won | Lost   Won | Lost   Won | Lost \n",
    "    1       Random      18  |   2    20  |   0    20  |   0    17  |   3  \n",
    "    2     MM_Improved   13  |   7    17  |   3    13  |   7    12  |   8  \n",
    "    3       AB_Open     13  |   7    11  |   9     9  |  11     9  |  11  \n",
    "    4     AB_Improved    9  |  11     9  |  11     9  |  11     9  |  11  \n",
    "--------------------------------------------------------------------------\n",
    "           Win Rate:      66.2%        71.2%        63.8%        58.8%    \n",
    "\n",
    "Tournament time time:696.321s\n",
    "```"
   ]
  },
  {
   "cell_type": "markdown",
   "metadata": {},
   "source": [
    "```\n",
    "Match #   Opponent    AB_Improved   AB_Custom   AB_Custom_2  AB_Custom_3 \n",
    "                        Won | Lost   Won | Lost   Won | Lost   Won | Lost \n",
    "    1       Random      27  |   3    29  |   1    29  |   1    29  |   1  \n",
    "    2     MM_Improved   27  |   3    23  |   7    23  |   7    23  |   7  \n",
    "    3       AB_Open     16  |  14    16  |  14    15  |  15    15  |  15  \n",
    "    4     AB_Improved   13  |  17    13  |  17    15  |  15    17  |  13  \n",
    "--------------------------------------------------------------------------\n",
    "           Win Rate:      69.2%        67.5%        68.3%        70.0%    \n",
    "\n",
    "Tournament time time:1053.75s\n",
    "```"
   ]
  },
  {
   "cell_type": "markdown",
   "metadata": {},
   "source": [
    "see https://github.com/llathrop/AIND-Isolation for full implementation code, etc"
   ]
  }
 ],
 "metadata": {
  "kernelspec": {
   "display_name": "Python 2",
   "language": "python",
   "name": "python2"
  },
  "language_info": {
   "codemirror_mode": {
    "name": "ipython",
    "version": 2
   },
   "file_extension": ".py",
   "mimetype": "text/x-python",
   "name": "python",
   "nbconvert_exporter": "python",
   "pygments_lexer": "ipython2",
   "version": "2.7.13"
  }
 },
 "nbformat": 4,
 "nbformat_minor": 2
}
